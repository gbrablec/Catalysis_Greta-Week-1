{
 "cells": [
  {
   "cell_type": "markdown",
   "metadata": {},
   "source": [
    "## Solving ODEs with Python"
   ]
  },
  {
   "cell_type": "code",
   "execution_count": 1,
   "metadata": {},
   "outputs": [],
   "source": [
    "import numpy as np\n",
    "import matplotlib.pyplot as plt\n",
    "import math"
   ]
  },
  {
   "cell_type": "markdown",
   "metadata": {},
   "source": [
    "Consider the following ODE: $\\frac{dy}{dt} = e^y - sin(y)$"
   ]
  },
  {
   "cell_type": "code",
   "execution_count": 2,
   "metadata": {},
   "outputs": [
    {
     "data": {
      "image/png": "[encoded data removed]",
      "text/plain": [
       "<Figure size 480x320 with 1 Axes>"
      ]
     },
     "metadata": {
      "needs_background": "light"
     },
     "output_type": "display_data"
    }
   ],
   "source": [
    "plt.figure(figsize=(6,4), dpi=80)\n",
    "\n",
    "#for simplicity, interval size will be 1\n",
    "y = np.linspace(-3, 2, num=6)\n",
    "dy_dt = np.exp(y) - np.sin(y)\n",
    "\n",
    "plt.plot(y, dy_dt, 'k')\n",
    "\n",
    "plt.title(\"ODE\")\n",
    "plt.show()"
   ]
  },
  {
   "cell_type": "code",
   "execution_count": 3,
   "metadata": {},
   "outputs": [
    {
     "name": "stdout",
     "output_type": "stream",
     "text": [
      "Array representing output values of ODE using input values of y: \n"
     ]
    },
    {
     "data": {
      "text/plain": [
       "array([0.19090708, 1.04463271, 1.20935043, 1.        , 1.87681084,\n",
       "       6.47975867])"
      ]
     },
     "execution_count": 3,
     "metadata": {},
     "output_type": "execute_result"
    }
   ],
   "source": [
    "print(\"Array representing output values of ODE using input values of y: \")\n",
    "dy_dt"
   ]
  },
  {
   "cell_type": "code",
   "execution_count": 4,
   "metadata": {},
   "outputs": [
    {
     "ename": "NameError",
     "evalue": "name 'soln_values' is not defined",
     "output_type": "error",
     "traceback": [
      "\u001b[1;31m---------------------------------------------------------------------------\u001b[0m",
      "\u001b[1;31mNameError\u001b[0m                                 Traceback (most recent call last)",
      "\u001b[1;32m<ipython-input-4-6c75d0d749e4>\u001b[0m in \u001b[0;36m<module>\u001b[1;34m\u001b[0m\n\u001b[0;32m     25\u001b[0m \u001b[1;33m\u001b[0m\u001b[0m\n\u001b[0;32m     26\u001b[0m \u001b[0msoln_yvalues\u001b[0m \u001b[1;33m=\u001b[0m \u001b[1;33m[\u001b[0m\u001b[0marea_1\u001b[0m\u001b[1;33m,\u001b[0m \u001b[0marea_2\u001b[0m\u001b[1;33m,\u001b[0m \u001b[0marea_3\u001b[0m\u001b[1;33m,\u001b[0m \u001b[0marea_4\u001b[0m\u001b[1;33m,\u001b[0m \u001b[0marea_5\u001b[0m\u001b[1;33m]\u001b[0m\u001b[1;33m\u001b[0m\u001b[1;33m\u001b[0m\u001b[0m\n\u001b[1;32m---> 27\u001b[1;33m \u001b[0mprint\u001b[0m \u001b[1;33m(\u001b[0m\u001b[0msoln_values\u001b[0m\u001b[1;33m)\u001b[0m\u001b[1;33m\u001b[0m\u001b[1;33m\u001b[0m\u001b[0m\n\u001b[0m",
      "\u001b[1;31mNameError\u001b[0m: name 'soln_values' is not defined"
     ]
    }
   ],
   "source": [
    "#I used brute force here as I was not sure this method is right. \n",
    "#We should consider that the right side of the ODE is in terms of y, not t.\n",
    "\n",
    "base = 1\n",
    "\n",
    "#Area slice 1:\n",
    "avg_height_1 = (.19090708 + 1.04463271)/2\n",
    "area_1 = avg_height_1*base\n",
    "\n",
    "#Area slice 2:\n",
    "avg_height_2 = (1.04463271 + 1.20935043)/2\n",
    "area_2 = avg_height_2*base\n",
    "\n",
    "#Area slice 3:\n",
    "avg_height_3 = (1.20935043 + 1)/2\n",
    "area_3 = avg_height_3*base\n",
    "\n",
    "#Area slice 4:\n",
    "avg_height_4 = (1 + 1.87681084)/2\n",
    "area_4 = avg_height_4*base\n",
    "\n",
    "#Area slice 5:\n",
    "avg_height_5 = (1.87681084 + 6.47975867)\n",
    "area_5 = avg_height_5*base\n",
    "\n",
    "soln_yvalues = [area_1, area_2, area_3, area_4, area_5]\n",
    "print (soln_values)"
   ]
  },
  {
   "cell_type": "code",
   "execution_count": 5,
   "metadata": {},
   "outputs": [
    {
     "data": {
      "image/png": "[encoded data removed]",
      "text/plain": [
       "<Figure size 432x288 with 1 Axes>"
      ]
     },
     "metadata": {
      "needs_background": "light"
     },
     "output_type": "display_data"
    }
   ],
   "source": [
    "#center t values between 2 ODE y values from which we calculated our area.\n",
    "t = np.linspace(-2.5, 1.5, 5)\n",
    "soln_yvalues = [area_1, area_2, area_3, area_4, area_5]\n",
    "\n",
    "plt.plot(t, soln_yvalues, 'k')\n",
    "\n",
    "plt.title(\"Horrible Approximation of Soln Curve\")\n",
    "plt.show()"
   ]
  },
  {
   "cell_type": "markdown",
   "metadata": {},
   "source": [
    "As we can see, writing a function that calculates many areas will be much more efficient. And, as we calculate more and more areas, our output representing the solution curve will become more accurate."
   ]
  }
 ],
 "metadata": {
  "kernelspec": {
   "display_name": "Python 3",
   "language": "python",
   "name": "python3"
  },
  "language_info": {
   "codemirror_mode": {
    "name": "ipython",
    "version": 3
   },
   "file_extension": ".py",
   "mimetype": "text/x-python",
   "name": "python",
   "nbconvert_exporter": "python",
   "pygments_lexer": "ipython3",
   "version": "3.8.3"
  }
 },
 "nbformat": 4,
 "nbformat_minor": 4
}
